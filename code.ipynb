{
  "nbformat": 4,
  "nbformat_minor": 0,
  "metadata": {
    "colab": {
      "provenance": [],
      "authorship_tag": "ABX9TyNcHzy+9HAhgEPBvgGIVNDH",
      "include_colab_link": true
    },
    "kernelspec": {
      "name": "python3",
      "display_name": "Python 3"
    },
    "language_info": {
      "name": "python"
    }
  },
  "cells": [
    {
      "cell_type": "markdown",
      "metadata": {
        "id": "view-in-github",
        "colab_type": "text"
      },
      "source": [
        "<a href=\"https://colab.research.google.com/github/amkutuzova/LinearRegression/blob/main/code.ipynb\" target=\"_parent\"><img src=\"https://colab.research.google.com/assets/colab-badge.svg\" alt=\"Open In Colab\"/></a>"
      ]
    },
    {
      "cell_type": "code",
      "execution_count": 1,
      "metadata": {
        "id": "BZKsbQsYkIZ5"
      },
      "outputs": [],
      "source": [
        "import pandas as pd\n",
        "import numpy as np\n",
        "from sklearn.model_selection import train_test_split\n",
        "from sklearn.linear_model import LinearRegression\n",
        "from sklearn.metrics import root_mean_squared_error\n",
        "from math import sqrt\n",
        "\n",
        "def car_price(file_name):\n",
        "    df=pd.read_csv(file_name)\n",
        "    features = ['Year', 'Engine HP', 'Engine Cylinders', 'highway MPG', 'city mpg', 'Popularity']\n",
        "    target = 'MSRP'\n",
        "\n",
        "    df[features] = df[features].fillna(df[features].mean())\n",
        "    df[target] = df[target].fillna(df[target].mean())\n",
        "\n",
        "    features_train, features_test, target_train, target_test = train_test_split(df[features], df[target], test_size=0.25, random_state=42)\n",
        "\n",
        "    model = LinearRegression(random_state=42)\n",
        "    model.fit(features_train, target_train)\n",
        "    result = model.predict(features_test)\n",
        "\n",
        "    rmse = root_mean_squared_error(target_test, result)\n",
        "\n",
        "    dummy = target_train.mean()\n",
        "    dummy_model = np.full(target_test.shape, dummy)\n",
        "\n",
        "    rmse_dummy = root_mean_squared_error(target_test, dummy_model)\n",
        "\n",
        "    return f'RMSE линейной регрессии: {rmse}'\n",
        "    return f'RMSE \"глупой\" модели: {rmse_dummy}'\n",
        "    return f'Разница: {rmse_dummy - rmse}'"
      ]
    }
  ]
}